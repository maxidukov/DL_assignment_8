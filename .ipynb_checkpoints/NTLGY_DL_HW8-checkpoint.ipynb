{
 "cells": [
  {
   "cell_type": "markdown",
   "metadata": {
    "id": "9jM9JnN_XFGl"
   },
   "source": [
    "## 1. Same (almost) as in the lecture notebook, except that phrase pairs are rus-eng and taken from https://www.manythings.org"
   ]
  },
  {
   "cell_type": "code",
   "execution_count": 2,
   "metadata": {
    "id": "-YlRH3mQM9tf"
   },
   "outputs": [],
   "source": [
    "# %matplotlib inline"
   ]
  },
  {
   "cell_type": "code",
   "execution_count": 1,
   "metadata": {
    "id": "MIEGXF8oM9tt"
   },
   "outputs": [],
   "source": [
    "from io import open\n",
    "import unicodedata\n",
    "import string\n",
    "import re\n",
    "import random\n",
    "\n",
    "import torch\n",
    "import torch.nn as nn\n",
    "from torch import optim\n",
    "import torch.nn.functional as F\n",
    "\n",
    "device = torch.device(\"cuda\" if torch.cuda.is_available() else \"cpu\")"
   ]
  },
  {
   "cell_type": "code",
   "execution_count": 2,
   "metadata": {
    "colab": {
     "base_uri": "https://localhost:8080/"
    },
    "id": "8UKlPFcBNZl5",
    "outputId": "f1113f96-dbf2-4330-a11d-3215359eb8f4",
    "scrolled": false
   },
   "outputs": [
    {
     "name": "stdout",
     "output_type": "stream",
     "text": [
      "--2024-10-21 21:48:16--  https://www.manythings.org/anki/rus-eng.zip\n",
      "Resolving www.manythings.org (www.manythings.org)... 173.254.30.110\n",
      "Connecting to www.manythings.org (www.manythings.org)|173.254.30.110|:443... connected.\n",
      "HTTP request sent, awaiting response... 200 OK\n",
      "Length: 16305013 (16M) [application/zip]\n",
      "Saving to: ‘rus-eng.zip’\n",
      "\n",
      "rus-eng.zip         100%[===================>]  15,55M   117KB/s    in 2m 8s   \n",
      "\n",
      "2024-10-21 21:50:25 (125 KB/s) - ‘rus-eng.zip’ saved [16305013/16305013]\n",
      "\n",
      "Archive:  rus-eng.zip\n",
      "  inflating: rus.txt                 \n",
      "  inflating: _about.txt              \n"
     ]
    }
   ],
   "source": [
    "# !wget https://download.pytorch.org/tutorial/data.zip\n",
    "!wget https://www.manythings.org/anki/rus-eng.zip\n",
    "!unzip rus-eng.zip"
   ]
  },
  {
   "cell_type": "code",
   "execution_count": 3,
   "metadata": {
    "colab": {
     "base_uri": "https://localhost:8080/"
    },
    "id": "twIcAJnyRkW-",
    "outputId": "abc8a09f-d9ae-49a8-998f-d6164996cf23",
    "scrolled": true
   },
   "outputs": [
    {
     "name": "stdout",
     "output_type": "stream",
     "text": [
      "We need to uphold laws against discrimination — in hiring, and in housing, and in education, and in the criminal justice system. That is what our Constitution and our highest ideals require.\tНам нужно отстаивать законы против дискриминации при найме на работу, в жилищной сфере, в сфере образования и правоохранительной системе. Этого требуют наша Конституция и высшие идеалы.\tCC-BY 2.0 (France) Attribution: tatoeba.org #5762728 (BHO) & #6390439 (odexed)\r\n",
      "I've heard that you should never date anyone who is less than half your age plus seven. Tom is now 30 years old and Mary is 17. How many years will Tom need to wait until he can start dating Mary?\tЯ слышал, что никогда не следует встречаться с кем-то вдвое младше вас плюс семь лет. Тому 30 лет, a Мэри 17. Сколько лет Тому нужно ждать до тех пор, пока он сможет начать встречаться с Мэри?\tCC-BY 2.0 (France) Attribution: tatoeba.org #10068197 (CK) & #10644473 (notenoughsun)\r\n",
      "I do have one final ask of you as your president, the same thing I asked when you took a chance on me eight years ago. I'm asking you to believe, not in my ability to bring about change but in yours.\tУ меня же, как у вашего президента, есть к вам последняя просьба. Та же самая, что и восемь лет назад, когда вы оказали мне своё доверие. Я прошу вас верить, но не в мои способности добиться перемен, а в ваши.\tCC-BY 2.0 (France) Attribution: tatoeba.org #5762723 (BHO) & #6390123 (odexed)\r\n",
      "In today's world, we have to equip all our kids with an education that prepares them for success, regardless of what they look like, or how much their parents make, or the zip code that they live in.\tВ современном мире перед нами стоит задача дать всем нашим детям такое образование, которое настроит их на успех вне зависимости от того, как они выглядят, сколько зарабатывают их родители или какой у них почтовый индекс.\tCC-BY 2.0 (France) Attribution: tatoeba.org #3924477 (BHO) & #5968115 (odexed)\r\n",
      "Death is something that we're often discouraged to talk about or even think about, but I've realized that preparing for death is one of the most empowering things you can do. Thinking about death clarifies your life.\tСмерть - это зачастую то, разговоры или даже мысли о чем приводят в уныние, но я осознал, что готовность умереть наделяет силой, как ничто другое. Мысль о смерти вносит ясность в твою жизнь.\tCC-BY 2.0 (France) Attribution: tatoeba.org #1969892 (davearms) & #3231553 (kukla)\r\n",
      "At a moment when our economy is growing, our businesses are creating jobs at the fastest pace since the 1990s, and wages are starting to rise again, we have to make some choices about the kind of country we want to be.\tВ тот момент, когда наша экономика растёт, наши предприятия создают рабочие места наибольшими темпами, начиная с 90-х годов, а зарплаты снова начинают расти, мы должны принять ряд решений относительно того, какой страной мы хотим быть.\tCC-BY 2.0 (France) Attribution: tatoeba.org #3924474 (BHO) & #4509418 (odexed)\r\n",
      "When I was younger, I hated going to weddings. My grandmothers and aunts would huddle around me, poke me in the side, and giggle \"You're next! You're next!\" They only stopped this nonsense when I began to do the same thing at funerals.\tКогда я была помоложе, я ненавидела ходить на свадьбы. Мои бабушки и тётки толпились вокруг, тыкали меня в бок и говорили, посмеиваясь: «Ты следующая! Ты следующая!». Они перестали нести этот вздор только тогда, когда я начала делать то же самое на похоронах.\tCC-BY 2.0 (France) Attribution: tatoeba.org #2776770 (AlanF_US) & #4311406 (odexed)\r\n",
      "Since there are usually multiple websites on any given topic, I usually just click the back button when I arrive on any webpage that has pop-up advertising. I just go to the next page found by Google and hope for something less irritating.\tПоскольку сайтов, посвящённых какой-либо теме, как правило, несколько, я обычно просто нажимаю на кнопку \"назад\", если попадаю на страницу со всплывающей рекламой. Я просто перехожу на следующую страницу, найденную гуглом, и надеюсь найти что-то менее раздражающее.\tCC-BY 2.0 (France) Attribution: tatoeba.org #954270 (CK) & #6383010 (odexed)\r\n",
      "If someone who doesn't know your background says that you sound like a native speaker, it means they probably noticed something about your speaking that made them realize you weren't a native speaker. In other words, you don't really sound like a native speaker.\tЕсли кто-то незнакомый говорит, что вы говорите как носитель языка, это значит, что он, вероятно, заметил что-то в вашей речи, что дало ему понять, что вы не носитель. Другими словами, вы не говорите как носитель.\tCC-BY 2.0 (France) Attribution: tatoeba.org #953936 (CK) & #10644468 (notenoughsun)\r\n",
      "Doubtless there exists in this world precisely the right woman for any given man to marry and vice versa; but when you consider that a human being has the opportunity of being acquainted with only a few hundred people, and out of the few hundred that there are but a dozen or less whom he knows intimately, and out of the dozen, one or two friends at most, it will easily be seen, when we remember the number of millions who inhabit this world, that probably, since the earth was created, the right man has never yet met the right woman.\tНесомненно, для каждого мужчины в этом мире где-то есть подходящая женщина, которая может стать ему женой, обратное верно и для женщин. Но если учесть, что у человека может быть максимум несколько сотен знакомых, из которых лишь дюжина, а то и меньше, тех, кого он знает близко, а из этой дюжины у него один или от силы два друга, то можно легко увидеть, что с учётом миллионов живущих на Земле людей, ни один подходящий мужчина, возможно, ещё не встретил подходящую женщину.\tCC-BY 2.0 (France) Attribution: tatoeba.org #7697649 (RM) & #7730831 (odexed)\r\n"
     ]
    }
   ],
   "source": [
    "!tail rus.txt"
   ]
  },
  {
   "cell_type": "code",
   "execution_count": 4,
   "metadata": {
    "colab": {
     "base_uri": "https://localhost:8080/"
    },
    "id": "tw0zI22FXFGq",
    "outputId": "17a2afe7-8751-49ca-e81f-31b09a174e57"
   },
   "outputs": [
    {
     "name": "stdout",
     "output_type": "stream",
     "text": [
      "Go.\tМарш!\tCC-BY 2.0 (France) Attribution: tatoeba.org #2877272 (CM) & #1159202 (shanghainese)\r\n",
      "Go.\tИди.\tCC-BY 2.0 (France) Attribution: tatoeba.org #2877272 (CM) & #5898247 (marafon)\r\n",
      "Go.\tИдите.\tCC-BY 2.0 (France) Attribution: tatoeba.org #2877272 (CM) & #5898250 (marafon)\r\n",
      "Hi.\tЗдравствуйте.\tCC-BY 2.0 (France) Attribution: tatoeba.org #538123 (CM) & #402127 (odexed)\r\n",
      "Hi.\tПривет!\tCC-BY 2.0 (France) Attribution: tatoeba.org #538123 (CM) & #466968 (katjka)\r\n",
      "Hi.\tХай.\tCC-BY 2.0 (France) Attribution: tatoeba.org #538123 (CM) & #467233 (timsa)\r\n",
      "Hi.\tЗдрасте.\tCC-BY 2.0 (France) Attribution: tatoeba.org #538123 (CM) & #3803577 (marafon)\r\n",
      "Hi.\tЗдоро́во!\tCC-BY 2.0 (France) Attribution: tatoeba.org #538123 (CM) & #3854188 (marafon)\r\n",
      "Hi.\tПриветик!\tCC-BY 2.0 (France) Attribution: tatoeba.org #538123 (CM) & #7234283 (marafon)\r\n",
      "Run!\tБеги!\tCC-BY 2.0 (France) Attribution: tatoeba.org #906328 (papabear) & #1569978 (Biga)\r\n"
     ]
    }
   ],
   "source": [
    "!head rus.txt"
   ]
  },
  {
   "cell_type": "markdown",
   "metadata": {
    "id": "mup2RGOlXFGq"
   },
   "source": [
    "### All phrase pairs appear to have a piece of seemingly irrelevant text attached to the end of the type \"CC-BY 2.0...(...)\". Let's define  a function to get rid of it:"
   ]
  },
  {
   "cell_type": "code",
   "execution_count": 5,
   "metadata": {
    "id": "ujxG-kScXFGq"
   },
   "outputs": [],
   "source": [
    "def clearString(s):\n",
    "    s = re.sub(\"\\tCC-BY 2\\.0.*\\)$\", \"\", s)\n",
    "    return s"
   ]
  },
  {
   "cell_type": "code",
   "execution_count": 6,
   "metadata": {
    "colab": {
     "base_uri": "https://localhost:8080/"
    },
    "id": "aKD9I17zXFGr",
    "outputId": "bc021f5b-8d0e-4739-d55d-1ce5aad6c754"
   },
   "outputs": [
    {
     "name": "stdout",
     "output_type": "stream",
     "text": [
      "Run!\tБеги\n"
     ]
    }
   ],
   "source": [
    "st = \"Run!\\tБеги\\tCC-BY 2.0 (France) Attribution: tatoeba.org #906328 (papabear) & #1569978 (Biga)\"\n",
    "print(clearString(st))\n",
    "# print(st)"
   ]
  },
  {
   "cell_type": "code",
   "execution_count": 7,
   "metadata": {
    "id": "kyNnJyruM9t1"
   },
   "outputs": [],
   "source": [
    "SOS_token = 0\n",
    "EOS_token = 1\n",
    "\n",
    "\n",
    "class Lang:\n",
    "    def __init__(self, name):\n",
    "        self.name = name\n",
    "        self.word2index = {}\n",
    "        self.word2count = {}\n",
    "        self.index2word = {0: \"SOS\", 1: \"EOS\"}\n",
    "        self.n_words = 2  # Count SOS and EOS\n",
    "\n",
    "    def addSentence(self, sentence):\n",
    "        for word in sentence.split(' '):\n",
    "            self.addWord(word)\n",
    "\n",
    "    def addWord(self, word):\n",
    "        if word not in self.word2index:\n",
    "            self.word2index[word] = self.n_words\n",
    "            self.word2count[word] = 1\n",
    "            self.index2word[self.n_words] = word\n",
    "            self.n_words += 1\n",
    "        else:\n",
    "            self.word2count[word] += 1"
   ]
  },
  {
   "cell_type": "code",
   "execution_count": 8,
   "metadata": {
    "id": "FXKs8j4bM9t6"
   },
   "outputs": [],
   "source": [
    "# Turn a Unicode string to plain ASCII, thanks to\n",
    "# http://stackoverflow.com/a/518232/2809427\n",
    "def unicodeToAscii(s):\n",
    "    return ''.join(\n",
    "        c for c in unicodedata.normalize('NFD', s)\n",
    "        if unicodedata.category(c) != 'Mn'\n",
    "    )\n",
    "\n",
    "# Lowercase, trim, and remove non-letter characters\n",
    "\n",
    "\n",
    "def normalizeString(s):\n",
    "    s = unicodeToAscii(s.lower().strip())\n",
    "    s = re.sub(r\"([.!?])\", r\" \\1\", s)\n",
    "#     s = re.sub(r\"[^a-zA-Z.!?]+\", r\" \", s)\n",
    "    s = re.sub(r\"[^a-zA-Zа-яА-Я.!?]+\", r\" \", s)\n",
    "    return s"
   ]
  },
  {
   "cell_type": "code",
   "execution_count": 9,
   "metadata": {
    "id": "D8T4VxZeM9t-"
   },
   "outputs": [],
   "source": [
    "def readLangs(lang1, lang2, reverse=False):\n",
    "    print(\"Reading lines...\")\n",
    "\n",
    "    # Read the file and split into lines\n",
    "#     lines = open('data/%s-%s.txt' % (lang1, lang2), encoding='utf-8').\\\n",
    "    lines = open('%s.txt' % ((lang1, lang2)[reverse]), encoding='utf-8').\\\n",
    "        read().strip().split('\\n')\n",
    "\n",
    "    # Split every line into pairs and normalize\n",
    "    pairs = [[normalizeString(s) for s in clearString(l).split('\\t')] for l in lines]\n",
    "#     pairs = [[normalizeString(s) for s in l.split('\\t')] for l in lines]\n",
    "\n",
    "    # Reverse pairs, make Lang instances\n",
    "    if reverse:\n",
    "        pairs = [list(reversed(p)) for p in pairs]\n",
    "        input_lang = Lang(lang2)\n",
    "        output_lang = Lang(lang1)\n",
    "    else:\n",
    "        input_lang = Lang(lang1)\n",
    "        output_lang = Lang(lang2)\n",
    "\n",
    "    return input_lang, output_lang, pairs"
   ]
  },
  {
   "cell_type": "code",
   "execution_count": 10,
   "metadata": {
    "id": "eBOwgEBdM9uB"
   },
   "outputs": [],
   "source": [
    "MAX_LENGTH = 10\n",
    "\n",
    "eng_prefixes = (\n",
    "    \"i am \", \"i m \",\n",
    "    \"he is\", \"he s \",\n",
    "#     \"she is\", \"she s\",\n",
    "    \"she is\", \"she s \" , ##ADDED WHITESPACE AT THE END\n",
    "    \"you are\", \"you re \",\n",
    "    \"we are\", \"we re \",\n",
    "    \"they are\", \"they re \"\n",
    ")\n",
    "\n",
    "\n",
    "# def filterPair(p):\n",
    "def filterPair(p, eng = 0):\n",
    "    return len(p[0].split(' ')) < MAX_LENGTH and \\\n",
    "        len(p[1].split(' ')) < MAX_LENGTH and \\\n",
    "        p[eng-1].startswith(eng_prefixes) if eng else 1\n",
    "#         p[1].startswith(eng_prefixes)\n",
    "\n",
    "\n",
    "# def filterPairs(pairs):\n",
    "#     return [pair for pair in pairs if filterPair(pair)]\n",
    "def filterPairs(pairs, eng = 0):\n",
    "    return [pair for pair in pairs if filterPair(pair, eng)]"
   ]
  },
  {
   "cell_type": "code",
   "execution_count": 11,
   "metadata": {
    "colab": {
     "base_uri": "https://localhost:8080/"
    },
    "id": "6dZOGjd5M9uE",
    "outputId": "2ff163f0-ec19-4430-c812-537d526a0b66"
   },
   "outputs": [
    {
     "name": "stdout",
     "output_type": "stream",
     "text": [
      "Reading lines...\n",
      "Read 496059 sentence pairs\n",
      "['марш !', 'go .']\n",
      "2\n",
      "Trimmed to 28325 sentence pairs\n",
      "Counting words...\n",
      "Counted words:\n",
      "rus 9894\n",
      "eng 4169\n",
      "['я не собираюсь петь .', 'i m not going to sing .']\n"
     ]
    }
   ],
   "source": [
    "def prepareData(lang1, lang2, reverse=False):\n",
    "    input_lang, output_lang, pairs = readLangs(lang1, lang2, reverse)\n",
    "    print(\"Read %s sentence pairs\" % len(pairs))\n",
    "    print(pairs[0])\n",
    "    eng = (not 'eng' in (lang1, lang2) or abs((lang1, lang2).index('eng') - reverse) + 2) - 1\n",
    "    print(eng)\n",
    "#   ### eng = 0 IF NEITHER IS ENGLISH, 1 IF INPUT IS ENGLISH, 2 OUTPUT IS ENGLISH OR VICE VERSA IF reverse IS TRUE\n",
    "#     pairs = filterPairs(pairs)\n",
    "    pairs = filterPairs(pairs, eng)\n",
    "    print(\"Trimmed to %s sentence pairs\" % len(pairs))\n",
    "    print(\"Counting words...\")\n",
    "    for pair in pairs:\n",
    "        input_lang.addSentence(pair[0])\n",
    "        output_lang.addSentence(pair[1])\n",
    "    print(\"Counted words:\")\n",
    "    print(input_lang.name, input_lang.n_words)\n",
    "    print(output_lang.name, output_lang.n_words)\n",
    "    return input_lang, output_lang, pairs\n",
    "\n",
    "\n",
    "# input_lang, output_lang, pairs = prepareData('eng', 'fra', True)\n",
    "input_lang, output_lang, pairs = prepareData('eng', 'rus', True)\n",
    "print(random.choice(pairs))"
   ]
  },
  {
   "cell_type": "code",
   "execution_count": 12,
   "metadata": {
    "id": "_oiOQcgwXnYC",
    "outputId": "402e2f58-6d9d-4d79-aa16-698bf2418443"
   },
   "outputs": [
    {
     "data": {
      "text/plain": [
       "[('мне', 2),\n",
       " ('девятнадцать', 3),\n",
       " ('лет', 4),\n",
       " ('.', 5),\n",
       " ('со', 6),\n",
       " ('мнои', 7),\n",
       " ('все', 8),\n",
       " ('в', 9),\n",
       " ('порядке', 10),\n",
       " ('у', 11)]"
      ]
     },
     "execution_count": 12,
     "metadata": {},
     "output_type": "execute_result"
    }
   ],
   "source": [
    "list(input_lang.word2index.items())[:10]"
   ]
  },
  {
   "cell_type": "code",
   "execution_count": 13,
   "metadata": {
    "id": "_lRJOPfUXnYC",
    "outputId": "9e60ecaf-a485-4abe-ecce-a7ab025c6840"
   },
   "outputs": [
    {
     "data": {
      "text/plain": [
       "[('i', 2),\n",
       " ('m', 3),\n",
       " ('.', 4),\n",
       " ('ok', 5),\n",
       " ('up', 6),\n",
       " ('tom', 7),\n",
       " ('bad', 8),\n",
       " ('fat', 9),\n",
       " ('fit', 10),\n",
       " ('hit', 11)]"
      ]
     },
     "execution_count": 13,
     "metadata": {},
     "output_type": "execute_result"
    }
   ],
   "source": [
    "list(output_lang.word2index.items())[:10]"
   ]
  },
  {
   "cell_type": "markdown",
   "metadata": {
    "id": "vgtWqznCM9uH"
   },
   "source": [
    "The Encoder\n",
    "-----------\n",
    "\n",
    "\n",
    "\n"
   ]
  },
  {
   "cell_type": "code",
   "execution_count": 14,
   "metadata": {
    "id": "m9vm9QBWM9uI"
   },
   "outputs": [],
   "source": [
    "class EncoderRNN(nn.Module):\n",
    "    def __init__(self, input_size, hidden_size):\n",
    "        super(EncoderRNN, self).__init__()\n",
    "        self.hidden_size = hidden_size\n",
    "\n",
    "        self.embedding = nn.Embedding(input_size, hidden_size)\n",
    "        self.gru = nn.GRU(hidden_size, hidden_size)\n",
    "\n",
    "    def forward(self, input, hidden):\n",
    "        embedded = self.embedding(input).view(1, 1, -1)\n",
    "        output = embedded\n",
    "        output, hidden = self.gru(output, hidden)\n",
    "        return output, hidden\n",
    "\n",
    "    def initHidden(self):\n",
    "        return torch.zeros(1, 1, self.hidden_size, device=device)"
   ]
  },
  {
   "cell_type": "markdown",
   "metadata": {
    "id": "FwLTlgSyM9uK"
   },
   "source": [
    "The Decoder\n",
    "-----------\n",
    "\n",
    "\n"
   ]
  },
  {
   "cell_type": "code",
   "execution_count": 15,
   "metadata": {
    "id": "PFbuUL1LM9uL"
   },
   "outputs": [],
   "source": [
    "class DecoderRNN(nn.Module):\n",
    "    def __init__(self, hidden_size, output_size):\n",
    "        super(DecoderRNN, self).__init__()\n",
    "        self.hidden_size = hidden_size\n",
    "\n",
    "        self.embedding = nn.Embedding(output_size, hidden_size)\n",
    "        self.gru = nn.GRU(hidden_size, hidden_size)\n",
    "        self.out = nn.Linear(hidden_size, output_size)\n",
    "        self.softmax = nn.LogSoftmax(dim=1)\n",
    "\n",
    "    def forward(self, input, hidden):\n",
    "        output = self.embedding(input).view(1, 1, -1)\n",
    "        output = F.relu(output)\n",
    "        output, hidden = self.gru(output, hidden)\n",
    "        output = self.softmax(self.out(output[0]))\n",
    "        return output, hidden\n",
    "\n",
    "    def initHidden(self):\n",
    "        return torch.zeros(1, 1, self.hidden_size, device=device)"
   ]
  },
  {
   "cell_type": "code",
   "execution_count": 16,
   "metadata": {
    "id": "z6gGPtXFM9uQ"
   },
   "outputs": [],
   "source": [
    "def indexesFromSentence(lang, sentence):\n",
    "    return [lang.word2index[word] for word in sentence.split(' ')]\n",
    "\n",
    "\n",
    "def tensorFromSentence(lang, sentence):\n",
    "    indexes = indexesFromSentence(lang, sentence)\n",
    "    indexes.append(EOS_token)\n",
    "    return torch.tensor(indexes, dtype=torch.long, device=device).view(-1, 1)\n",
    "\n",
    "\n",
    "def tensorsFromPair(pair):\n",
    "    input_tensor = tensorFromSentence(input_lang, pair[0])\n",
    "    target_tensor = tensorFromSentence(output_lang, pair[1])\n",
    "    return (input_tensor, target_tensor)"
   ]
  },
  {
   "cell_type": "code",
   "execution_count": 17,
   "metadata": {
    "id": "8Fn8VDv8M9uS"
   },
   "outputs": [],
   "source": [
    "teacher_forcing_ratio = 0.5\n",
    "\n",
    "\n",
    "def train(input_tensor, target_tensor, encoder, decoder, encoder_optimizer, decoder_optimizer, criterion, max_length=MAX_LENGTH):\n",
    "    encoder_hidden = encoder.initHidden()\n",
    "\n",
    "    encoder_optimizer.zero_grad()\n",
    "    decoder_optimizer.zero_grad()\n",
    "\n",
    "    input_length = input_tensor.size(0)\n",
    "    target_length = target_tensor.size(0)\n",
    "\n",
    "    encoder_outputs = torch.zeros(max_length, encoder.hidden_size, device=device)\n",
    "\n",
    "    loss = 0\n",
    "\n",
    "    for ei in range(input_length):\n",
    "        encoder_output, encoder_hidden = encoder(\n",
    "            input_tensor[ei], encoder_hidden)\n",
    "        encoder_outputs[ei] = encoder_output[0, 0]\n",
    "\n",
    "    decoder_input = torch.tensor([[SOS_token]], device=device)\n",
    "\n",
    "    decoder_hidden = encoder_hidden\n",
    "\n",
    "    use_teacher_forcing = True if random.random() < teacher_forcing_ratio else False\n",
    "\n",
    "    if use_teacher_forcing:\n",
    "        # Teacher forcing: Feed the target as the next input\n",
    "        for di in range(target_length):\n",
    "            decoder_output, decoder_hidden = decoder(\n",
    "                decoder_input, decoder_hidden)\n",
    "            loss += criterion(decoder_output, target_tensor[di])\n",
    "            decoder_input = target_tensor[di]  # Teacher forcing\n",
    "\n",
    "    else:\n",
    "        # Without teacher forcing: use its own predictions as the next input\n",
    "        for di in range(target_length):\n",
    "            decoder_output, decoder_hidden = decoder(\n",
    "                decoder_input, decoder_hidden)\n",
    "            topv, topi = decoder_output.topk(1)\n",
    "            decoder_input = topi.squeeze().detach()  # detach from history as input\n",
    "\n",
    "            loss += criterion(decoder_output, target_tensor[di])\n",
    "            if decoder_input.item() == EOS_token:\n",
    "                break\n",
    "\n",
    "    loss.backward()\n",
    "\n",
    "    encoder_optimizer.step()\n",
    "    decoder_optimizer.step()\n",
    "\n",
    "    return loss.item() / target_length"
   ]
  },
  {
   "cell_type": "code",
   "execution_count": 18,
   "metadata": {
    "id": "EKsdwPmSM9uU"
   },
   "outputs": [],
   "source": [
    "import time\n",
    "import math\n",
    "\n",
    "\n",
    "def asMinutes(s):\n",
    "    m = math.floor(s / 60)\n",
    "    s -= m * 60\n",
    "    return '%dm %ds' % (m, s)\n",
    "\n",
    "\n",
    "def timeSince(since, percent):\n",
    "    now = time.time()\n",
    "    s = now - since\n",
    "    es = s / (percent)\n",
    "    rs = es - s\n",
    "    return '%s (- %s)' % (asMinutes(s), asMinutes(rs))"
   ]
  },
  {
   "cell_type": "code",
   "execution_count": 19,
   "metadata": {
    "id": "C_z_k5IiM9uX"
   },
   "outputs": [],
   "source": [
    "def trainIters(encoder, decoder, n_iters, print_every=1000, plot_every=100, learning_rate=0.01):\n",
    "    start = time.time()\n",
    "    plot_losses = []\n",
    "    print_loss_total = 0  # Reset every print_every\n",
    "    plot_loss_total = 0  # Reset every plot_every\n",
    "\n",
    "    encoder_optimizer = optim.SGD(encoder.parameters(), lr=learning_rate)\n",
    "    decoder_optimizer = optim.SGD(decoder.parameters(), lr=learning_rate)\n",
    "    training_pairs = [tensorsFromPair(random.choice(pairs))\n",
    "                      for i in range(n_iters)]\n",
    "    criterion = nn.NLLLoss()\n",
    "\n",
    "    for iter in range(1, n_iters + 1):\n",
    "        training_pair = training_pairs[iter - 1]\n",
    "        input_tensor = training_pair[0]\n",
    "        target_tensor = training_pair[1]\n",
    "\n",
    "        loss = train(input_tensor, target_tensor, encoder,\n",
    "                     decoder, encoder_optimizer, decoder_optimizer, criterion)\n",
    "        print_loss_total += loss\n",
    "        plot_loss_total += loss\n",
    "\n",
    "        if iter % print_every == 0:\n",
    "            print_loss_avg = print_loss_total / print_every\n",
    "            print_loss_total = 0\n",
    "            print('%s (%d %d%%) %.4f' % (timeSince(start, iter / n_iters),\n",
    "                                         iter, iter / n_iters * 100, print_loss_avg))\n",
    "\n",
    "        if iter % plot_every == 0:\n",
    "            plot_loss_avg = plot_loss_total / plot_every\n",
    "            plot_losses.append(plot_loss_avg)\n",
    "            plot_loss_total = 0\n",
    "\n",
    "    showPlot(plot_losses)"
   ]
  },
  {
   "cell_type": "code",
   "execution_count": 20,
   "metadata": {
    "id": "0JXG-RzCM9uZ"
   },
   "outputs": [],
   "source": [
    "import matplotlib.pyplot as plt\n",
    "plt.switch_backend('agg')\n",
    "import matplotlib.ticker as ticker\n",
    "import numpy as np\n",
    "\n",
    "\n",
    "def showPlot(points):\n",
    "    plt.figure()\n",
    "    fig, ax = plt.subplots()\n",
    "    # this locator puts ticks at regular intervals\n",
    "    base = 0.2 if max(points) - min(points) <= 3 else np.ceil(int(max(points) - min(points))/10)\n",
    "#     loc = ticker.MultipleLocator(base=0.2)\n",
    "    loc = ticker.MultipleLocator(base=base)\n",
    "    ax.yaxis.set_major_locator(loc)\n",
    "    plt.title(\"Loss vs iterations\")\n",
    "    plt.plot(points)"
   ]
  },
  {
   "cell_type": "code",
   "execution_count": 21,
   "metadata": {
    "id": "3Bxf45h6M9ud"
   },
   "outputs": [],
   "source": [
    "def evaluate(encoder, decoder, sentence, max_length=MAX_LENGTH):\n",
    "    with torch.no_grad():\n",
    "        input_tensor = tensorFromSentence(input_lang, sentence)\n",
    "        input_length = input_tensor.size()[0]\n",
    "        encoder_hidden = encoder.initHidden()\n",
    "\n",
    "        encoder_outputs = torch.zeros(max_length, encoder.hidden_size, device=device)\n",
    "\n",
    "        for ei in range(input_length):\n",
    "            encoder_output, encoder_hidden = encoder(input_tensor[ei],\n",
    "                                                     encoder_hidden)\n",
    "            encoder_outputs[ei] += encoder_output[0, 0]\n",
    "\n",
    "        decoder_input = torch.tensor([[SOS_token]], device=device)  # SOS\n",
    "\n",
    "        decoder_hidden = encoder_hidden\n",
    "\n",
    "        decoded_words = []\n",
    "\n",
    "        for di in range(max_length):\n",
    "            decoder_output, decoder_hidden = decoder(\n",
    "                decoder_input, decoder_hidden)\n",
    "            topv, topi = decoder_output.data.topk(1)\n",
    "            if topi.item() == EOS_token:\n",
    "                decoded_words.append('<EOS>')\n",
    "                break\n",
    "            else:\n",
    "                decoded_words.append(output_lang.index2word[topi.item()])\n",
    "\n",
    "            decoder_input = topi.squeeze().detach()\n",
    "\n",
    "        return decoded_words"
   ]
  },
  {
   "cell_type": "code",
   "execution_count": 22,
   "metadata": {
    "id": "1qUmQIGwM9uf"
   },
   "outputs": [],
   "source": [
    "def evaluateRandomly(encoder, decoder, n=10):\n",
    "    for i in range(n):\n",
    "        pair = random.choice(pairs)\n",
    "        print('>', pair[0])\n",
    "        print('=', pair[1])\n",
    "        output_words = evaluate(encoder, decoder, pair[0])\n",
    "        output_sentence = ' '.join(output_words)\n",
    "        print('<', output_sentence)\n",
    "        print('')"
   ]
  },
  {
   "cell_type": "code",
   "execution_count": 23,
   "metadata": {
    "colab": {
     "base_uri": "https://localhost:8080/",
     "height": 642
    },
    "id": "s_56t10oM9uh",
    "outputId": "613de244-3957-42ac-abd0-f2f90868101a"
   },
   "outputs": [
    {
     "name": "stdout",
     "output_type": "stream",
     "text": [
      "2m 40s (- 37m 21s) (5000 6%) 3.0832\n",
      "5m 16s (- 34m 14s) (10000 13%) 2.5856\n",
      "7m 47s (- 31m 11s) (15000 20%) 2.3042\n",
      "10m 20s (- 28m 25s) (20000 26%) 2.1107\n",
      "12m 54s (- 25m 48s) (25000 33%) 1.9624\n",
      "15m 10s (- 22m 45s) (30000 40%) 1.8298\n",
      "17m 23s (- 19m 52s) (35000 46%) 1.7146\n",
      "19m 33s (- 17m 6s) (40000 53%) 1.6225\n",
      "21m 45s (- 14m 30s) (45000 60%) 1.5351\n",
      "23m 58s (- 11m 59s) (50000 66%) 1.4689\n",
      "26m 10s (- 9m 31s) (55000 73%) 1.3785\n",
      "28m 23s (- 7m 5s) (60000 80%) 1.3093\n",
      "30m 36s (- 4m 42s) (65000 86%) 1.2769\n",
      "33m 0s (- 2m 21s) (70000 93%) 1.2191\n",
      "35m 29s (- 0m 0s) (75000 100%) 1.1729\n"
     ]
    },
    {
     "data": {
      "text/plain": [
       "<Figure size 640x480 with 0 Axes>"
      ]
     },
     "metadata": {},
     "output_type": "display_data"
    },
    {
     "data": {
      "image/png": "[encoded data removed]",
      "text/plain": [
       "<Figure size 640x480 with 1 Axes>"
      ]
     },
     "metadata": {},
     "output_type": "display_data"
    }
   ],
   "source": [
    "%matplotlib inline\n",
    "hidden_size = 256\n",
    "encoder1 = EncoderRNN(input_lang.n_words, hidden_size).to(device)\n",
    "decoder1 = DecoderRNN(hidden_size, output_lang.n_words).to(device)\n",
    "\n",
    "trainIters(encoder1, decoder1, 75000, print_every=5000)\n",
    "# trainIters(encoder1, decoder1, 1000, print_every=100,plot_every=100)"
   ]
  },
  {
   "cell_type": "code",
   "execution_count": 24,
   "metadata": {
    "id": "xEoEylSyM9uj",
    "outputId": "d580e7c9-af4c-44b1-a531-ea9ce9cebf5b"
   },
   "outputs": [
    {
     "name": "stdout",
     "output_type": "stream",
     "text": [
      "> мне не интересно что ты думаешь .\n",
      "= i m not interested in what you think .\n",
      "< i m not what you think think . <EOS>\n",
      "\n",
      "> я уже богата .\n",
      "= i m already rich .\n",
      "< i m already rich . <EOS>\n",
      "\n",
      "> я здесь совсем одна .\n",
      "= i m all alone here .\n",
      "< i m all alone here . <EOS>\n",
      "\n",
      "> я еду в командировку .\n",
      "= i m going on a business trip .\n",
      "< i m going to the <EOS>\n",
      "\n",
      "> я преданная .\n",
      "= i m dedicated .\n",
      "< i m a . <EOS>\n",
      "\n",
      "> она хорошо говорит по англииски .\n",
      "= she is good at speaking english .\n",
      "< she s good at playing . <EOS>\n",
      "\n",
      "> я очень сердит на тома .\n",
      "= i m very angry with tom .\n",
      "< i m very angry with tom . <EOS>\n",
      "\n",
      "> мы будем ждать тома .\n",
      "= we re going to wait for tom .\n",
      "< we re going to wait for tom . <EOS>\n",
      "\n",
      "> я тронута .\n",
      "= i m touched .\n",
      "< i m a . <EOS>\n",
      "\n",
      "> мы строим дом .\n",
      "= we re building a house .\n",
      "< we re going to be working for . <EOS>\n",
      "\n"
     ]
    }
   ],
   "source": [
    "evaluateRandomly(encoder1, decoder1)"
   ]
  },
  {
   "cell_type": "markdown",
   "metadata": {
    "id": "WDUd02T-XFGy"
   },
   "source": [
    "## 2. Adding a second recurrent layer in the GRU for encoder and decoder"
   ]
  },
  {
   "cell_type": "markdown",
   "metadata": {
    "id": "dE8QvI7XXFGz"
   },
   "source": [
    "### Adapting our model to using two recurrent layers is easy: we could only change two lines per class. But let's rewrite our classes to make them more general and accept variable number of layers"
   ]
  },
  {
   "cell_type": "markdown",
   "metadata": {
    "id": "RQ6enK9gXFGz"
   },
   "source": [
    "Encoder with variable number of layers\n",
    "-----------\n",
    "\n",
    "\n",
    "\n"
   ]
  },
  {
   "cell_type": "code",
   "execution_count": 25,
   "metadata": {
    "id": "ljRig8G_XFGz"
   },
   "outputs": [],
   "source": [
    "class EncoderRNNGeneral(nn.Module):\n",
    "    def __init__(self, input_size, hidden_size, num_layers=1): ##CHANGE HERE\n",
    "        super().__init__()\n",
    "        self.hidden_size = hidden_size\n",
    "        self.num_layers = num_layers\n",
    "\n",
    "        self.embedding = nn.Embedding(input_size, hidden_size)\n",
    "        self.gru = nn.GRU(hidden_size, hidden_size, num_layers=num_layers) ##CHANGE HERE\n",
    "\n",
    "    def forward(self, input, hidden):\n",
    "        embedded = self.embedding(input).view(1, 1, -1)\n",
    "        output = embedded\n",
    "        output, hidden = self.gru(output, hidden)\n",
    "        return output, hidden\n",
    "\n",
    "    def initHidden(self):\n",
    "        return torch.zeros(self.num_layers, 1, self.hidden_size, device=device) ##CHANGE HERE"
   ]
  },
  {
   "cell_type": "markdown",
   "metadata": {
    "id": "Qnas19JDXFGz"
   },
   "source": [
    "Decoder with variable number of layers\n",
    "-----------\n",
    "\n",
    "\n"
   ]
  },
  {
   "cell_type": "code",
   "execution_count": 26,
   "metadata": {
    "id": "ShbSk1aSXFGz"
   },
   "outputs": [],
   "source": [
    "class DecoderRNNGeneral(nn.Module):\n",
    "    def __init__(self, hidden_size, output_size, num_layers=1): ##CHANGE HERE\n",
    "        super().__init__()\n",
    "        self.hidden_size = hidden_size\n",
    "        self.num_layers = num_layers\n",
    "\n",
    "        self.embedding = nn.Embedding(output_size, hidden_size)\n",
    "        self.gru = nn.GRU(hidden_size, hidden_size, num_layers=num_layers) ##CHANGE HERE\n",
    "        self.out = nn.Linear(hidden_size, output_size)\n",
    "        self.softmax = nn.LogSoftmax(dim=1)\n",
    "\n",
    "    def forward(self, input, hidden):\n",
    "        output = self.embedding(input).view(1, 1, -1)\n",
    "        output = F.relu(output)\n",
    "        output, hidden = self.gru(output, hidden)\n",
    "        output = self.softmax(self.out(output[0]))\n",
    "#         return output, self.back2hid(hidden)\n",
    "        return output, hidden\n",
    "\n",
    "    def initHidden(self):\n",
    "        return torch.zeros(self.num_layers, 1, self.hidden_size, device=device) ##CHANGE HERE"
   ]
  },
  {
   "cell_type": "code",
   "execution_count": 27,
   "metadata": {
    "colab": {
     "base_uri": "https://localhost:8080/",
     "height": 639
    },
    "id": "DrN-K19wXFG6",
    "outputId": "5e28db55-a747-46a7-af9d-0d1d91ade648"
   },
   "outputs": [
    {
     "name": "stdout",
     "output_type": "stream",
     "text": [
      "2m 30s (- 35m 4s) (5000 6%) 3.1029\n",
      "5m 1s (- 32m 38s) (10000 13%) 2.6642\n",
      "7m 32s (- 30m 8s) (15000 20%) 2.4039\n",
      "9m 54s (- 27m 15s) (20000 26%) 2.1925\n",
      "12m 27s (- 24m 54s) (25000 33%) 2.0362\n",
      "14m 57s (- 22m 26s) (30000 40%) 1.8957\n",
      "17m 25s (- 19m 54s) (35000 46%) 1.7816\n",
      "19m 53s (- 17m 24s) (40000 53%) 1.6458\n",
      "22m 24s (- 14m 56s) (45000 60%) 1.5473\n",
      "24m 51s (- 12m 25s) (50000 66%) 1.4980\n",
      "27m 19s (- 9m 56s) (55000 73%) 1.4116\n",
      "29m 46s (- 7m 26s) (60000 80%) 1.3342\n",
      "32m 15s (- 4m 57s) (65000 86%) 1.2568\n",
      "34m 47s (- 2m 29s) (70000 93%) 1.2148\n",
      "37m 17s (- 0m 0s) (75000 100%) 1.1530\n"
     ]
    },
    {
     "data": {
      "text/plain": [
       "<Figure size 640x480 with 0 Axes>"
      ]
     },
     "metadata": {},
     "output_type": "display_data"
    },
    {
     "data": {
      "image/png": "[encoded data removed]",
      "text/plain": [
       "<Figure size 640x480 with 1 Axes>"
      ]
     },
     "metadata": {},
     "output_type": "display_data"
    }
   ],
   "source": [
    "%matplotlib inline\n",
    "hidden_size = 256\n",
    "encoder2layers = EncoderRNNGeneral(input_lang.n_words, hidden_size, num_layers=2).to(device)\n",
    "decoder2layers = DecoderRNNGeneral(hidden_size, output_lang.n_words, num_layers=2).to(device)\n",
    "\n",
    "trainIters(encoder2layers, decoder2layers, 75000, print_every=5000)\n",
    "# trainIters(encoder2layers, decoder2layers, 1000, print_every=100,plot_every=100)"
   ]
  },
  {
   "cell_type": "code",
   "execution_count": 28,
   "metadata": {
    "id": "61DV9Q9jXFG6",
    "outputId": "51db985f-470c-45f8-a767-07474d703ac6"
   },
   "outputs": [
    {
     "name": "stdout",
     "output_type": "stream",
     "text": [
      "> я теперь в бостоне .\n",
      "= i m now in boston .\n",
      "< i m now in boston . <EOS>\n",
      "\n",
      "> у меня все хорошо .\n",
      "= i m okay .\n",
      "< i m fine . <EOS>\n",
      "\n",
      "> я пока не уверен в этом .\n",
      "= i m still not sure about that .\n",
      "< i m not sure about that yet . <EOS>\n",
      "\n",
      "> я вам просто сообщаю .\n",
      "= i m just letting you know .\n",
      "< i m just trying to understand . <EOS>\n",
      "\n",
      "> они пилоты .\n",
      "= they are pilots .\n",
      "< they re cool . <EOS>\n",
      "\n",
      "> ты совсем не умеешь врать .\n",
      "= you re a terrible liar .\n",
      "< you re a a liar liar . <EOS>\n",
      "\n",
      "> мне скоро исполнится тридцать .\n",
      "= i m about to turn thirty .\n",
      "< i m thirty thirty . <EOS>\n",
      "\n",
      "> мы уезжаем сегодня .\n",
      "= we re leaving today .\n",
      "< we re back today . <EOS>\n",
      "\n",
      "> вы не одна .\n",
      "= you re not alone .\n",
      "< you aren t alone . <EOS>\n",
      "\n",
      "> тебе нельзя покидать эту комнату .\n",
      "= you re not allowed to leave this room .\n",
      "< you re not allowed to leave this room . <EOS>\n",
      "\n"
     ]
    }
   ],
   "source": [
    "evaluateRandomly(encoder2layers, decoder2layers)"
   ]
  },
  {
   "cell_type": "markdown",
   "metadata": {
    "id": "WuvxDOpmXFG7"
   },
   "source": [
    "## 3. Replacing GRU with LSTM in encoder and decoder"
   ]
  },
  {
   "cell_type": "markdown",
   "metadata": {
    "id": "7fS_WXy9XFG7"
   },
   "source": [
    "### In order to adapt our model to using LSTM let's rewrite our encoder and decoder classes again"
   ]
  },
  {
   "cell_type": "markdown",
   "metadata": {
    "id": "YuxP3HaLXFG7"
   },
   "source": [
    "Encoder compatible with LSTM\n",
    "-----------\n",
    "\n",
    "\n",
    "\n"
   ]
  },
  {
   "cell_type": "code",
   "execution_count": 29,
   "metadata": {
    "id": "WFd_K6hDXFG7"
   },
   "outputs": [],
   "source": [
    "class EncoderRNNGeneral(nn.Module):\n",
    "    def __init__(self, input_size, hidden_size, rnnClass = nn.RNN, num_layers = 1): ##CHANGE HERE\n",
    "        super().__init__()\n",
    "        self.hidden_size = hidden_size\n",
    "        self.num_layers = num_layers\n",
    "        self.embedding = nn.Embedding(input_size, hidden_size)\n",
    "        self.rnn = rnnClass(hidden_size, hidden_size, num_layers=num_layers) ##CHANGE HERE\n",
    "\n",
    "    def forward(self, input, hidden):\n",
    "        embedded = self.embedding(input).view(1, 1, -1)\n",
    "        output = embedded\n",
    "        output, hidden = self.rnn(output, hidden) ##CHANGE HERE\n",
    "        return output, hidden\n",
    "\n",
    "    def initHidden(self): ##CHANGES HERE\n",
    "        initial_hidden = torch.zeros(self.num_layers, 1, self.hidden_size, device=device)\n",
    "        if isinstance(self.rnn, nn.LSTM):\n",
    "            initial_cell = torch.zeros(self.num_layers, 1, self.hidden_size, device=device)\n",
    "            initial_hidden = (initial_hidden, initial_cell)\n",
    "        return initial_hidden"
   ]
  },
  {
   "cell_type": "markdown",
   "metadata": {
    "id": "55Z3406iXFG8"
   },
   "source": [
    "Decoder compatible with LSTM\n",
    "-----------\n",
    "\n",
    "\n"
   ]
  },
  {
   "cell_type": "code",
   "execution_count": 30,
   "metadata": {
    "id": "OCJkWFKrXFG8"
   },
   "outputs": [],
   "source": [
    "class DecoderRNNGeneral(nn.Module):\n",
    "    def __init__(self, hidden_size, output_size, rnnClass = nn.RNN, num_layers = 1): ##CHANGE HERE\n",
    "        super().__init__()\n",
    "        self.hidden_size = hidden_size\n",
    "        self.num_layers = num_layers\n",
    "\n",
    "        self.embedding = nn.Embedding(output_size, hidden_size)\n",
    "        self.rnn = rnnClass(hidden_size, hidden_size, num_layers=num_layers) ##CHANGE HERE\n",
    "        self.out = nn.Linear(hidden_size, output_size)\n",
    "        self.softmax = nn.LogSoftmax(dim=1)\n",
    "\n",
    "    def forward(self, input, hidden):\n",
    "        output = self.embedding(input).view(1, 1, -1)\n",
    "        output = F.relu(output)\n",
    "        output, hidden = self.rnn(output, hidden)\n",
    "        output = self.softmax(self.out(output[0]))\n",
    "        return output, hidden\n",
    "\n",
    "    def initHidden(self): ##CHANGES HERE\n",
    "        initial_hidden = torch.zeros(self.num_layers, 1, self.hidden_size, device=device)\n",
    "        if isinstance(self.rnn, nn.LSTM):\n",
    "            initial_cell = torch.zeros(self.num_layers, 1, self.hidden_size, device=device)\n",
    "            initial_hidden = (initial_hidden, initial_cell)\n",
    "        return initial_hidden"
   ]
  },
  {
   "cell_type": "code",
   "execution_count": 31,
   "metadata": {
    "colab": {
     "base_uri": "https://localhost:8080/",
     "height": 639
    },
    "id": "X6F1xECyXFG8",
    "outputId": "47cd399f-af9d-4493-df39-bcdc89ab0260"
   },
   "outputs": [
    {
     "name": "stdout",
     "output_type": "stream",
     "text": [
      "2m 17s (- 32m 1s) (5000 6%) 3.1647\n",
      "4m 33s (- 29m 36s) (10000 13%) 2.7252\n",
      "6m 40s (- 26m 43s) (15000 20%) 2.5147\n",
      "8m 56s (- 24m 35s) (20000 26%) 2.3184\n",
      "11m 9s (- 22m 18s) (25000 33%) 2.1576\n",
      "13m 26s (- 20m 9s) (30000 40%) 2.0457\n",
      "15m 43s (- 17m 58s) (35000 46%) 1.9264\n",
      "18m 0s (- 15m 45s) (40000 53%) 1.8435\n",
      "20m 16s (- 13m 30s) (45000 60%) 1.7395\n",
      "22m 33s (- 11m 16s) (50000 66%) 1.6771\n",
      "24m 50s (- 9m 1s) (55000 73%) 1.6309\n",
      "27m 5s (- 6m 46s) (60000 80%) 1.5325\n",
      "29m 22s (- 4m 31s) (65000 86%) 1.4872\n",
      "31m 40s (- 2m 15s) (70000 93%) 1.4294\n",
      "33m 56s (- 0m 0s) (75000 100%) 1.3797\n"
     ]
    },
    {
     "data": {
      "text/plain": [
       "<Figure size 640x480 with 0 Axes>"
      ]
     },
     "metadata": {},
     "output_type": "display_data"
    },
    {
     "data": {
      "image/png": "[encoded data removed]",
      "text/plain": [
       "<Figure size 640x480 with 1 Axes>"
      ]
     },
     "metadata": {},
     "output_type": "display_data"
    }
   ],
   "source": [
    "%matplotlib inline\n",
    "hidden_size = 256\n",
    "encoderLSTM = EncoderRNNGeneral(input_lang.n_words, hidden_size, rnnClass = nn.LSTM).to(device)\n",
    "decoderLSTM = DecoderRNNGeneral(hidden_size, output_lang.n_words, rnnClass = nn.LSTM).to(device)\n",
    "\n",
    "trainIters(encoderLSTM, decoderLSTM, 75000, print_every=5000)\n",
    "# trainIters(encoderLSTM, decoderLSTM, 1000, print_every=100,plot_every=100)"
   ]
  },
  {
   "cell_type": "code",
   "execution_count": 32,
   "metadata": {
    "id": "Xrlyy_LrXFG8",
    "outputId": "fde360cd-e64b-48c4-f8c7-4655ce557b16"
   },
   "outputs": [
    {
     "name": "stdout",
     "output_type": "stream",
     "text": [
      "> вам очень трудно угодить .\n",
      "= you re very hard to please .\n",
      "< you re very hard to please . <EOS>\n",
      "\n",
      "> я все еще не замужем .\n",
      "= i m still single .\n",
      "< i m still married . <EOS>\n",
      "\n",
      "> я очень терпелив .\n",
      "= i m very patient .\n",
      "< i m very smart . <EOS>\n",
      "\n",
      "> ты моя девушка .\n",
      "= you re my girlfriend .\n",
      "< you re my girl . <EOS>\n",
      "\n",
      "> я владелец этои земли .\n",
      "= i m the owner of this land .\n",
      "< i m the one who . the . . <EOS>\n",
      "\n",
      "> я чувствую себя подавленнои .\n",
      "= i m feeling down .\n",
      "< i m feeling to . <EOS>\n",
      "\n",
      "> мы все еще опережаем график .\n",
      "= we re still ahead of schedule .\n",
      "< we re still a of children . <EOS>\n",
      "\n",
      "> она не менее красива чем ее мать .\n",
      "= she is no less beautiful than her mother .\n",
      "< she is not her her mother her mother . <EOS>\n",
      "\n",
      "> я не готов к экзамену .\n",
      "= i m not ready for the exam .\n",
      "< i m not ready for the . <EOS>\n",
      "\n",
      "> в октябре этого года мне исполняется тридцать .\n",
      "= i m turning thirty this october .\n",
      "< i m thirty thirty now . . <EOS>\n",
      "\n"
     ]
    }
   ],
   "source": [
    "evaluateRandomly(encoderLSTM, decoderLSTM)"
   ]
  },
  {
   "cell_type": "markdown",
   "metadata": {
    "id": "auVT9R50XFG8"
   },
   "source": [
    "## 4. Adding training in batches"
   ]
  },
  {
   "cell_type": "markdown",
   "metadata": {},
   "source": [
    "### Several approaches can be used to handle batched input of variable length sequences fed to RNNs, bearing in mind that tensors in pytorch need to have equal length in every dimension:\n",
    "\n",
    "* Concatenating sequences - probably, not the most efficient way since this creates a long context of logically unconnected phrases\n",
    "* Batching sequences in groups of equal lengths of target and source sequences - this creates a large number of batches with unequal size, which at the very least can make loss dynamics harder to follow\n",
    "* Padding sequences grouped in batches of equal size - with this approach we need to ignore hidden state elements generated by padding tokens\n",
    "\n",
    "### Here, we'll use the padding approach combined with special masks \"neutralizing\" all the tensor elements that have been generated by padding tokens"
   ]
  },
  {
   "cell_type": "code",
   "execution_count": 33,
   "metadata": {
    "id": "SFPsYC0413Ml"
   },
   "outputs": [],
   "source": [
    "from torch.utils.data import Dataset, DataLoader"
   ]
  },
  {
   "cell_type": "markdown",
   "metadata": {},
   "source": [
    "### Let's define a simple Dataset class that'll handle tensorisation and act as input for a dataloader:"
   ]
  },
  {
   "cell_type": "code",
   "execution_count": 34,
   "metadata": {
    "id": "SPjiQLGcsQ7I"
   },
   "outputs": [],
   "source": [
    "class MyDataSet(Dataset):\n",
    "    def __init__(self,tensor_pair_list):\n",
    "        super().__init__()\n",
    "        self.input = tensor_pair_list\n",
    "        self.Xs = []\n",
    "        self.Ys = []\n",
    "        for pair in self.input:\n",
    "            pair_tensor = tensorsFromPair(pair) ##  DIGITIZE AND TENSORIZE HERE\n",
    "            self.Xs.append(pair_tensor[0])\n",
    "            self.Ys.append(pair_tensor[1])\n",
    "    def __len__(self):\n",
    "        return len(self.input)\n",
    "    def __getitem__(self,idx):\n",
    "        X = self.Xs[idx]\n",
    "        Y = self.Ys[idx]\n",
    "        return X,Y"
   ]
  },
  {
   "cell_type": "code",
   "execution_count": 35,
   "metadata": {
    "id": "roJdo2RQ5EWR"
   },
   "outputs": [],
   "source": [
    "ds = MyDataSet(pairs)"
   ]
  },
  {
   "cell_type": "markdown",
   "metadata": {},
   "source": [
    "### Before instantiating our dataloader we'll define a collate function - it'll handle padding our source and target sequences in a batch. Our padding tokens will be the numbers following the largest token in our respective input and output language dictionaries "
   ]
  },
  {
   "cell_type": "code",
   "execution_count": 36,
   "metadata": {
    "id": "h479MM_mXnYe"
   },
   "outputs": [],
   "source": [
    "def pad_batch(batch):\n",
    "    input_tensors = []\n",
    "    output_tensors = []\n",
    "    \n",
    "    for x, y in batch:\n",
    "    # for x in batch:\n",
    "        input_tensors.append(x)\n",
    "        output_tensors.append(y)\n",
    "    x_padded = torch.nn.utils.rnn.pad_sequence(input_tensors, batch_first=True, padding_value=input_lang.n_words)\n",
    "    y_padded = torch.nn.utils.rnn.pad_sequence(output_tensors, batch_first=True, padding_value=output_lang.n_words)\n",
    "\n",
    "    return x_padded.squeeze(-1).permute(1,0), y_padded.squeeze(-1).permute(1,0) ## NOT .SQUEEZE() !!!"
   ]
  },
  {
   "cell_type": "code",
   "execution_count": 42,
   "metadata": {},
   "outputs": [],
   "source": [
    "BATCH_SIZE=128\n",
    "# BATCH_SIZE=1\n",
    "train_loader_padded = DataLoader(ds, batch_size=BATCH_SIZE, shuffle=True, collate_fn=pad_batch)"
   ]
  },
  {
   "cell_type": "markdown",
   "metadata": {},
   "source": [
    "### Let's now define our encoder and decoder classes - the only change is that in the .view() method called on embedded input the batch size dimension will obviously not be equal to 1: rather, it will be inferred. \n",
    "### On the other hand we'll leave initHidden() class method with batch size = 1 unchanged in order to be able to use the same evaluate() function. We'll adjust batch size dimension porperly in the train function"
   ]
  },
  {
   "cell_type": "markdown",
   "metadata": {
    "id": "6W9TOHyvXnYh"
   },
   "source": [
    "Encoder compatible with batched input\n",
    "-----------\n",
    "\n",
    "\n",
    "\n"
   ]
  },
  {
   "cell_type": "code",
   "execution_count": 37,
   "metadata": {
    "id": "ZyjhRZQPXnYh"
   },
   "outputs": [],
   "source": [
    "class EncoderRNNBatched(nn.Module):\n",
    "    def __init__(self, input_size, hidden_size, rnnClass = nn.RNN, num_layers = 1):\n",
    "        super().__init__()\n",
    "        self.hidden_size = hidden_size\n",
    "        self.num_layers = num_layers\n",
    "        self.embedding = nn.Embedding(input_size, hidden_size)\n",
    "        self.rnn = rnnClass(hidden_size, hidden_size, num_layers=num_layers)\n",
    "\n",
    "    def forward(self, input, hidden):\n",
    "        embedded = self.embedding(input).view(1, -1, hidden_size) ##CHANGE HERE\n",
    "        output = embedded\n",
    "        output, hidden = self.rnn(output, hidden)\n",
    "        return output, hidden\n",
    "    \n",
    "    def initHidden(self):\n",
    "        initial_hidden = torch.zeros(self.num_layers, 1, self.hidden_size, device=device)\n",
    "        if isinstance(self.rnn, nn.LSTM):\n",
    "            initial_cell = torch.zeros(self.num_layers, 1, self.hidden_size, device=device)\n",
    "            initial_hidden = (initial_hidden, initial_cell)\n",
    "        return initial_hidden"
   ]
  },
  {
   "cell_type": "markdown",
   "metadata": {
    "id": "yS5uAqxIXnYh"
   },
   "source": [
    "Decoder compatible with batched input\n",
    "-----------\n",
    "\n",
    "\n"
   ]
  },
  {
   "cell_type": "code",
   "execution_count": 38,
   "metadata": {
    "id": "3qADYFDJXnYh"
   },
   "outputs": [],
   "source": [
    "class DecoderRNNBatched(nn.Module):\n",
    "    def __init__(self, hidden_size, output_size, rnnClass = nn.RNN, num_layers = 1):\n",
    "        super().__init__()\n",
    "        self.hidden_size = hidden_size\n",
    "        self.num_layers = num_layers\n",
    "\n",
    "        self.embedding = nn.Embedding(output_size, hidden_size)\n",
    "        self.rnn = rnnClass(hidden_size, hidden_size, num_layers=num_layers)\n",
    "        self.out = nn.Linear(hidden_size, output_size)\n",
    "        self.softmax = nn.LogSoftmax(dim=1)\n",
    "\n",
    "    def forward(self, input, hidden):\n",
    "        output = self.embedding(input).view(1, -1, hidden_size) ##CHANGE HERE\n",
    "        output = F.relu(output)\n",
    "        output, hidden = self.rnn(output, hidden)\n",
    "        output = self.softmax(self.out(output[0]))\n",
    "        return output, hidden\n",
    "    \n",
    "    def initHidden(self): \n",
    "        initial_hidden = torch.zeros(self.num_layers, 1, self.hidden_size, device=device)\n",
    "        if isinstance(self.rnn, nn.LSTM):\n",
    "            initial_cell = torch.zeros(self.num_layers, 1, self.hidden_size, device=device)\n",
    "            initial_hidden = (initial_hidden, initial_cell)\n",
    "        return initial_hidden"
   ]
  },
  {
   "cell_type": "markdown",
   "metadata": {},
   "source": [
    "### The most important changes will apply to the train function:\n",
    "\n",
    "1. Encoder mask will be used to generate indices of last relevant hidden state elements preceding those that were generated by padding tokens in the source sequences. In case of LSTM the same needs to be done with respect to context (cell) state\n",
    "2. Parts of decoder mask will be used sequentially to exclude irrelevant tensor elements from calculating loss\n",
    "3. Batch size dimension, which is now greater than 1, has to be adjusted when initializing encoder hidden state and encoder outputs"
   ]
  },
  {
   "cell_type": "code",
   "execution_count": 39,
   "metadata": {
    "id": "4D7BCrHsXnYg"
   },
   "outputs": [],
   "source": [
    "teacher_forcing_ratio = 0.5\n",
    "\n",
    "def train_in_padded_batches(train_loader, encoder, decoder, encoder_optimizer, decoder_optimizer, criterion):\n",
    "\n",
    "    encoder_optimizer.zero_grad()\n",
    "    decoder_optimizer.zero_grad()\n",
    "    train_loss = 0.\n",
    "    batch_num = 0\n",
    "\n",
    "    for x,y in train_loader:\n",
    "        input_length = x.size(0)\n",
    "        target_length = y.size(0)\n",
    "        batch_size = x.size(1)\n",
    "        batch_num += 1\n",
    "        \n",
    "        if isinstance(encoder.rnn, nn.LSTM):\n",
    "            encoder_hidden = (encoder.initHidden()[0].repeat_interleave(batch_size,dim=1),\n",
    "                          encoder.initHidden()[1].repeat_interleave(batch_size,dim=1))\n",
    "        else:\n",
    "            encoder_hidden = encoder.initHidden().repeat_interleave(batch_size,dim=1)\n",
    "\n",
    "        encoder_optimizer.zero_grad()\n",
    "        decoder_optimizer.zero_grad()\n",
    "\n",
    "        encoder_outputs = torch.zeros(input_length, batch_size, encoder.hidden_size, device=device)\n",
    "        if isinstance(encoder.rnn, nn.LSTM):\n",
    "            encoder_outputs = (encoder_outputs,torch.zeros(input_length, batch_size, encoder.hidden_size, device=device))\n",
    "            \n",
    "        loss = 0.\n",
    "\n",
    "        for ei in range(input_length):\n",
    "            encoder_output, encoder_hidden = encoder(\n",
    "            x[ei], encoder_hidden)\n",
    "            if isinstance(encoder.rnn, nn.LSTM):\n",
    "          # if type(encoder_hidden) == tuple:\n",
    "                encoder_outputs[0][ei] = encoder_hidden[0][0]\n",
    "                encoder_outputs[1][ei] = encoder_hidden[1][0]\n",
    "            else:\n",
    "                encoder_outputs[ei] = encoder_hidden[0]\n",
    "\n",
    "        decoder_input = torch.tensor([[SOS_token]*batch_size], device=device)\n",
    "        \n",
    "        enc_mask = (x != input_lang.n_words)\n",
    "        enc_hid_indices = enc_mask.sum(0) - 1\n",
    "\n",
    "        if type(encoder_hidden) == tuple:\n",
    "            decoder_hidden = ( encoder_outputs[0][ enc_hid_indices, torch.arange(batch_size) ].unsqueeze(0),\n",
    "                          encoder_outputs[1][ enc_hid_indices, torch.arange(batch_size) ].unsqueeze(0))\n",
    "        else:\n",
    "            decoder_hidden = encoder_outputs[ enc_hid_indices, torch.arange(batch_size) ].unsqueeze(0)\n",
    "\n",
    "        dec_mask = (y != output_lang.n_words)\n",
    "\n",
    "        use_teacher_forcing = True if random.random() < teacher_forcing_ratio else False\n",
    "\n",
    "        if use_teacher_forcing:\n",
    "          # Teacher forcing: Feed the target as the next input\n",
    "            for di in range(target_length):\n",
    "                decoder_output, decoder_hidden = decoder(\n",
    "                  decoder_input, decoder_hidden)\n",
    "                loss += (criterion(decoder_output, y[di]) * dec_mask[di]).sum()\n",
    "                decoder_input = y[di]  # Teacher forcing\n",
    "\n",
    "        else:\n",
    "          # Without teacher forcing: use its own predictions as the next input\n",
    "            for di in range(target_length):\n",
    "                decoder_output, decoder_hidden = decoder(\n",
    "                  decoder_input, decoder_hidden)\n",
    "                topv, topi = decoder_output.topk(1)\n",
    "                decoder_input = topi.squeeze().detach()  # detach from history as input\n",
    "\n",
    "                loss += (criterion(decoder_output, y[di]) * dec_mask[di]).sum()\n",
    "              # if decoder_input.item() == EOS_token: ## DON'T STOP\n",
    "              #     break\n",
    "\n",
    "        loss.backward()\n",
    "\n",
    "        encoder_optimizer.step()\n",
    "        decoder_optimizer.step()\n",
    "\n",
    "        train_loss += loss.item() / target_length / batch_size\n",
    "    return train_loss / batch_num"
   ]
  },
  {
   "cell_type": "markdown",
   "metadata": {},
   "source": [
    "### The only change in trainIters() function is that it now uses our newly defined train_in_padded_batches() function. Iterations are now epochs."
   ]
  },
  {
   "cell_type": "code",
   "execution_count": 40,
   "metadata": {
    "id": "FOYnJK1tXnYi"
   },
   "outputs": [],
   "source": [
    "def trainIters_in_batches(train_loader, encoder, decoder, n_iters, print_every=1000, plot_every=100, learning_rate=0.01):\n",
    "    start = time.time()\n",
    "    plot_losses = []\n",
    "    print_loss_total = 0  # Reset every print_every\n",
    "    plot_loss_total = 0  # Reset every plot_every\n",
    "\n",
    "    encoder_optimizer = optim.SGD(encoder.parameters(), lr=learning_rate)\n",
    "    decoder_optimizer = optim.SGD(decoder.parameters(), lr=learning_rate)\n",
    "#     encoder_optimizer = optim.Adam(encoder.parameters(), lr=learning_rate)\n",
    "#     decoder_optimizer = optim.Adam(decoder.parameters(), lr=learning_rate)\n",
    "\n",
    "    criterion = nn.NLLLoss()\n",
    "\n",
    "    for iter in range(1, n_iters + 1):\n",
    "        # training_pair = training_pairs[iter - 1] ## THIS WILL ALL BE HANDLED BY DATALOADER\n",
    "        # input_tensor = training_pair[0]\n",
    "        # target_tensor = training_pair[1]\n",
    "\n",
    "        loss = train_in_padded_batches(train_loader, encoder,\n",
    "                     decoder, encoder_optimizer, decoder_optimizer, criterion)\n",
    "        print_loss_total += loss\n",
    "        plot_loss_total += loss\n",
    "\n",
    "        if iter % print_every == 0:\n",
    "            print_loss_avg = print_loss_total / print_every\n",
    "            print_loss_total = 0\n",
    "            print('%s (%d %d%%) %.4f' % (timeSince(start, iter / n_iters),\n",
    "                                         iter, iter / n_iters * 100, print_loss_avg))\n",
    "\n",
    "        if iter % plot_every == 0:\n",
    "            plot_loss_avg = plot_loss_total / plot_every\n",
    "            plot_losses.append(plot_loss_avg)\n",
    "            plot_loss_total = 0\n",
    "\n",
    "    showPlot(plot_losses)"
   ]
  },
  {
   "cell_type": "markdown",
   "metadata": {},
   "source": [
    "### One last thing: when instantiating encoder and decoder we must remember that out dictionaries are now 1 word larger, they now include their respective padding tokens"
   ]
  },
  {
   "cell_type": "code",
   "execution_count": 43,
   "metadata": {
    "colab": {
     "base_uri": "https://localhost:8080/",
     "height": 642
    },
    "id": "GwD62edUXnYi",
    "outputId": "d4d18b66-d172-4933-ade4-92705e9e7396",
    "scrolled": false
   },
   "outputs": [
    {
     "name": "stdout",
     "output_type": "stream",
     "text": [
      "0m 25s (- 3m 46s) (2 10%) 8.1396\n",
      "0m 50s (- 3m 20s) (4 20%) 4.2872\n",
      "1m 15s (- 2m 55s) (6 30%) 3.9055\n",
      "1m 39s (- 2m 29s) (8 40%) 3.8044\n",
      "2m 4s (- 2m 4s) (10 50%) 3.5329\n",
      "2m 28s (- 1m 39s) (12 60%) 3.5701\n",
      "2m 53s (- 1m 14s) (14 70%) 3.4920\n",
      "3m 17s (- 0m 49s) (16 80%) 3.2765\n",
      "3m 38s (- 0m 24s) (18 90%) 3.2716\n",
      "4m 3s (- 0m 0s) (20 100%) 3.0705\n"
     ]
    },
    {
     "data": {
      "text/plain": [
       "<Figure size 640x480 with 0 Axes>"
      ]
     },
     "metadata": {},
     "output_type": "display_data"
    },
    {
     "data": {
      "image/png": "[encoded data removed]",
      "text/plain": [
       "<Figure size 640x480 with 1 Axes>"
      ]
     },
     "metadata": {},
     "output_type": "display_data"
    }
   ],
   "source": [
    "%matplotlib inline\n",
    "hidden_size = 256\n",
    "\n",
    "encoderLSTM = EncoderRNNBatched(input_lang.n_words+1, hidden_size, rnnClass = nn.LSTM).to(device)\n",
    "decoderLSTM = DecoderRNNBatched(hidden_size, output_lang.n_words+1, rnnClass = nn.LSTM).to(device)\n",
    "\n",
    "\n",
    "# trainIters(encoderLSTM, decoderLSTM, 75000, print_every=5000)\n",
    "trainIters_in_batches(train_loader_padded,encoderLSTM, decoderLSTM, 20, print_every=2,plot_every=2)"
   ]
  },
  {
   "cell_type": "code",
   "execution_count": 44,
   "metadata": {},
   "outputs": [
    {
     "name": "stdout",
     "output_type": "stream",
     "text": [
      "> мы еще обсуждаем это .\n",
      "= we re still discussing that .\n",
      "< we re not as tom . <EOS>\n",
      "\n",
      "> я в вашем распоряжении .\n",
      "= i m at your disposal .\n",
      "< i m not of the . <EOS>\n",
      "\n",
      "> ты больна .\n",
      "= you re sick .\n",
      "< you re a . <EOS>\n",
      "\n",
      "> ты очень сладкая .\n",
      "= you re very sweet .\n",
      "< you re not a . <EOS>\n",
      "\n",
      "> я старыи человек .\n",
      "= i m an old man .\n",
      "< i m not of . <EOS>\n",
      "\n",
      "> я немного боюсь тома .\n",
      "= i m a little afraid of tom .\n",
      "< i m not that s a . <EOS>\n",
      "\n",
      "> сегодня он по идее должен быть дома .\n",
      "= he is supposed to be at home today .\n",
      "< he s not as t of the . <EOS>\n",
      "\n",
      "> я рад что мы рано ушли .\n",
      "= i m glad that we left early .\n",
      "< i m not sure tom tom tom . <EOS>\n",
      "\n",
      "> я в полиции .\n",
      "= i m at the police station .\n",
      "< i m a of . <EOS>\n",
      "\n",
      "> нам некогда .\n",
      "= we re in a hurry .\n",
      "< we re a . <EOS>\n",
      "\n"
     ]
    }
   ],
   "source": [
    "evaluateRandomly(encoderLSTM, decoderLSTM)"
   ]
  },
  {
   "cell_type": "markdown",
   "metadata": {},
   "source": [
    "### The quality of translation and loss dynamics are noticeably worse. Let's try a different optimizer:"
   ]
  },
  {
   "cell_type": "code",
   "execution_count": 46,
   "metadata": {
    "id": "FOYnJK1tXnYi"
   },
   "outputs": [],
   "source": [
    "def trainIters_in_batches_Adam(train_loader, encoder, decoder, n_iters, print_every=1000, plot_every=100, learning_rate=0.01):\n",
    "    start = time.time()\n",
    "    plot_losses = []\n",
    "    print_loss_total = 0  # Reset every print_every\n",
    "    plot_loss_total = 0  # Reset every plot_every\n",
    "\n",
    "#     encoder_optimizer = optim.SGD(encoder.parameters(), lr=learning_rate)\n",
    "#     decoder_optimizer = optim.SGD(decoder.parameters(), lr=learning_rate)\n",
    "    encoder_optimizer = optim.Adam(encoder.parameters(), lr=learning_rate)\n",
    "    decoder_optimizer = optim.Adam(decoder.parameters(), lr=learning_rate)\n",
    "\n",
    "    criterion = nn.NLLLoss()\n",
    "\n",
    "    for iter in range(1, n_iters + 1):\n",
    "        # training_pair = training_pairs[iter - 1] ## THIS WILL ALL BE HANDLED BY DATALOADER\n",
    "        # input_tensor = training_pair[0]\n",
    "        # target_tensor = training_pair[1]\n",
    "\n",
    "        loss = train_in_padded_batches(train_loader, encoder,\n",
    "                     decoder, encoder_optimizer, decoder_optimizer, criterion)\n",
    "        print_loss_total += loss\n",
    "        plot_loss_total += loss\n",
    "\n",
    "        if iter % print_every == 0:\n",
    "            print_loss_avg = print_loss_total / print_every\n",
    "            print_loss_total = 0\n",
    "            print('%s (%d %d%%) %.4f' % (timeSince(start, iter / n_iters),\n",
    "                                         iter, iter / n_iters * 100, print_loss_avg))\n",
    "\n",
    "        if iter % plot_every == 0:\n",
    "            plot_loss_avg = plot_loss_total / plot_every\n",
    "            plot_losses.append(plot_loss_avg)\n",
    "            plot_loss_total = 0\n",
    "\n",
    "    showPlot(plot_losses)"
   ]
  },
  {
   "cell_type": "code",
   "execution_count": 47,
   "metadata": {},
   "outputs": [
    {
     "name": "stdout",
     "output_type": "stream",
     "text": [
      "0m 26s (- 4m 0s) (2 10%) 1.7479\n",
      "0m 53s (- 3m 32s) (4 20%) 0.9222\n",
      "1m 20s (- 3m 7s) (6 30%) 0.6173\n",
      "1m 46s (- 2m 40s) (8 40%) 0.4852\n",
      "2m 13s (- 2m 13s) (10 50%) 0.3826\n",
      "2m 39s (- 1m 46s) (12 60%) 0.3339\n",
      "3m 5s (- 1m 19s) (14 70%) 0.2953\n",
      "3m 32s (- 0m 53s) (16 80%) 0.2820\n",
      "3m 56s (- 0m 26s) (18 90%) 0.2603\n",
      "4m 23s (- 0m 0s) (20 100%) 0.2505\n"
     ]
    },
    {
     "data": {
      "text/plain": [
       "<Figure size 640x480 with 0 Axes>"
      ]
     },
     "metadata": {},
     "output_type": "display_data"
    },
    {
     "data": {
      "image/png": "[encoded data removed]",
      "text/plain": [
       "<Figure size 640x480 with 1 Axes>"
      ]
     },
     "metadata": {},
     "output_type": "display_data"
    }
   ],
   "source": [
    "%matplotlib inline\n",
    "hidden_size = 256\n",
    "\n",
    "encoderLSTM = EncoderRNNBatched(input_lang.n_words+1, hidden_size, rnnClass = nn.LSTM).to(device)\n",
    "decoderLSTM = DecoderRNNBatched(hidden_size, output_lang.n_words+1, rnnClass = nn.LSTM).to(device)\n",
    "\n",
    "\n",
    "# trainIters(encoderLSTM, decoderLSTM, 75000, print_every=5000)\n",
    "trainIters_in_batches_Adam(train_loader_padded,encoderLSTM, decoderLSTM, 20, print_every=2,plot_every=2)"
   ]
  },
  {
   "cell_type": "code",
   "execution_count": 48,
   "metadata": {
    "colab": {
     "base_uri": "https://localhost:8080/"
    },
    "id": "5gdmnwDMdPC9",
    "outputId": "b642a563-60ee-45a1-9fa7-82d2cf20cabb"
   },
   "outputs": [
    {
     "name": "stdout",
     "output_type": "stream",
     "text": [
      "> они просто студенты .\n",
      "= they re just students .\n",
      "< they re just students . <EOS>\n",
      "\n",
      "> мы вернулись домои .\n",
      "= we re back home .\n",
      "< we re back home . <EOS>\n",
      "\n",
      "> вы неплохои .\n",
      "= you re pretty good .\n",
      "< you re pretty good . <EOS>\n",
      "\n",
      "> вы неудачница .\n",
      "= you re a loser .\n",
      "< you re a loser . <EOS>\n",
      "\n",
      "> вы выше ее .\n",
      "= you are taller than she is .\n",
      "< you re taller than she is . <EOS>\n",
      "\n",
      "> я не уверена что ты готова .\n",
      "= i m not sure you re ready .\n",
      "< i m not sure you re ready . <EOS>\n",
      "\n",
      "> я на четвертом месяце беременности .\n",
      "= i m four months pregnant .\n",
      "< i m four months pregnant . <EOS>\n",
      "\n",
      "> я боюсь волков .\n",
      "= i m afraid of wolves .\n",
      "< i m afraid of wolves . <EOS>\n",
      "\n",
      "> ты сел не в тот поезд .\n",
      "= you re on the wrong train .\n",
      "< you are on the wrong bus . <EOS>\n",
      "\n",
      "> мне только тридцать лет .\n",
      "= i m only thirty years old .\n",
      "< i m only thirteen . <EOS>\n",
      "\n"
     ]
    }
   ],
   "source": [
    "evaluateRandomly(encoderLSTM, decoderLSTM)"
   ]
  },
  {
   "cell_type": "markdown",
   "metadata": {
    "id": "CyCgNuNlXnYo"
   },
   "source": [
    "## Conclusion: batched training using padded sequences ensures MUCH faster training with a decent quality of translation, which is dependent on several factors like the optimizer used"
   ]
  },
  {
   "cell_type": "code",
   "execution_count": null,
   "metadata": {},
   "outputs": [],
   "source": []
  }
 ],
 "metadata": {
  "accelerator": "GPU",
  "colab": {
   "provenance": []
  },
  "kernelspec": {
   "display_name": "Python 3 (ipykernel)",
   "language": "python",
   "name": "python3"
  },
  "language_info": {
   "codemirror_mode": {
    "name": "ipython",
    "version": 3
   },
   "file_extension": ".py",
   "mimetype": "text/x-python",
   "name": "python",
   "nbconvert_exporter": "python",
   "pygments_lexer": "ipython3",
   "version": "3.11.6"
  }
 },
 "nbformat": 4,
 "nbformat_minor": 1
}
